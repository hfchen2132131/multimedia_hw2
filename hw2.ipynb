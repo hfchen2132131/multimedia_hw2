{
 "cells": [
  {
   "cell_type": "code",
   "execution_count": 1,
   "id": "e86acdcf-a487-418e-aab8-43014aa13570",
   "metadata": {},
   "outputs": [],
   "source": [
    "import cv2\n",
    "import numpy as np\n",
    "import matplotlib.pyplot as plt\n",
    "import os"
   ]
  },
  {
   "cell_type": "code",
   "execution_count": 2,
   "id": "c6c57724-4b1f-495f-8818-1108ebe337ac",
   "metadata": {},
   "outputs": [
    {
     "name": "stdout",
     "output_type": "stream",
     "text": [
      "create folder: output/\n",
      "770\n"
     ]
    }
   ],
   "source": [
    "video_path = 'hw2_2/ftfm.mp4'\n",
    "output_folder = 'output/'\n",
    "\n",
    "if os.path.isdir(output_folder):\n",
    "    print(\"Delete old result folder: {}\".format(output_folder))\n",
    "    os.system(\"rm -rf {}\".format(output_folder))\n",
    "os.system(\"mkdir {}\".format(output_folder))\n",
    "print(\"create folder: {}\".format(output_folder))\n",
    "\n",
    "vc = cv2.VideoCapture(video_path)\n",
    "fps = vc.get(cv2.CAP_PROP_FPS)\n",
    "frame_count = int(vc.get(cv2.CAP_PROP_FRAME_COUNT))\n",
    "print(frame_count)\n",
    "video = []\n"
   ]
  },
  {
   "cell_type": "code",
   "execution_count": 3,
   "id": "414bbe07",
   "metadata": {},
   "outputs": [
    {
     "name": "stdout",
     "output_type": "stream",
     "text": [
      "3\n"
     ]
    }
   ],
   "source": [
    "t = frame_count\n",
    "digit = 0\n",
    "while t > 0:\n",
    "    t = int(t / 10)\n",
    "    digit += 1\n",
    "print(digit)"
   ]
  },
  {
   "cell_type": "code",
   "execution_count": 6,
   "id": "f8cebdae-120e-43fc-8b9d-e6404477ae5d",
   "metadata": {},
   "outputs": [
    {
     "ename": "AttributeError",
     "evalue": "'NoneType' object has no attribute 'shape'",
     "output_type": "error",
     "traceback": [
      "\u001b[1;31m---------------------------------------------------------------------------\u001b[0m",
      "\u001b[1;31mAttributeError\u001b[0m                            Traceback (most recent call last)",
      "\u001b[1;32mc:\\Users\\James\\Documents\\GitHub\\multimedia\\hw2.ipynb Cell 4'\u001b[0m in \u001b[0;36m<cell line: 4>\u001b[1;34m()\u001b[0m\n\u001b[0;32m      <a href='vscode-notebook-cell:/c%3A/Users/James/Documents/GitHub/multimedia/hw2.ipynb#ch0000003?line=4'>5</a>\u001b[0m vc\u001b[39m.\u001b[39mset(\u001b[39m1\u001b[39m, idx)\n\u001b[0;32m      <a href='vscode-notebook-cell:/c%3A/Users/James/Documents/GitHub/multimedia/hw2.ipynb#ch0000003?line=5'>6</a>\u001b[0m ret, frame \u001b[39m=\u001b[39m vc\u001b[39m.\u001b[39mread()\n\u001b[1;32m----> <a href='vscode-notebook-cell:/c%3A/Users/James/Documents/GitHub/multimedia/hw2.ipynb#ch0000003?line=6'>7</a>\u001b[0m height, width, layers \u001b[39m=\u001b[39m frame\u001b[39m.\u001b[39;49mshape\n\u001b[0;32m      <a href='vscode-notebook-cell:/c%3A/Users/James/Documents/GitHub/multimedia/hw2.ipynb#ch0000003?line=7'>8</a>\u001b[0m size \u001b[39m=\u001b[39m (width, height)\n\u001b[0;32m      <a href='vscode-notebook-cell:/c%3A/Users/James/Documents/GitHub/multimedia/hw2.ipynb#ch0000003?line=8'>9</a>\u001b[0m \u001b[39m#print(frame)\u001b[39;00m\n\u001b[0;32m     <a href='vscode-notebook-cell:/c%3A/Users/James/Documents/GitHub/multimedia/hw2.ipynb#ch0000003?line=9'>10</a>\u001b[0m \u001b[39m#img = cv2.imread('hw2_1\\\\news_out\\\\news-0000000.jpg')\u001b[39;00m\n",
      "\u001b[1;31mAttributeError\u001b[0m: 'NoneType' object has no attribute 'shape'"
     ]
    }
   ],
   "source": [
    "hist_base = []\n",
    "prev_hist = []\n",
    "frame_flag = np.zeros(frame_count)\n",
    "for idx in range(0, 1380, 1):\n",
    "    vc.set(1, idx)\n",
    "    ret, frame = vc.read()\n",
    "    height, width, layers = frame.shape\n",
    "    size = (width, height)\n",
    "    #print(frame)\n",
    "    #img = cv2.imread('hw2_1\\\\news_out\\\\news-0000000.jpg')\n",
    "    h_bins = 100\n",
    "    s_bins = 100\n",
    "    histSize = [h_bins, s_bins]\n",
    "    # hue varies from 0 to 179, saturation from 0 to 255\n",
    "    h_ranges = [0, 180]\n",
    "    s_ranges = [0, 256]\n",
    "    ranges = h_ranges + s_ranges # concat lists\n",
    "    # Use the 0-th and 1-st channels\n",
    "    channels = [0, 1]\n",
    "    \n",
    "\n",
    "    if frame is not None:\n",
    "        #cv2.imshow(\"preview\", frame)\n",
    "        #cv2.waitKey(0)\n",
    "        gray = cv2.cvtColor(frame, cv2.COLOR_BGR2GRAY)\n",
    "        #hist = cv2.calcHist([gray], [0], None, [256], [0, 256])\n",
    "\n",
    "        t = []\n",
    "        for i in range(4):\n",
    "            for j in range(4):\n",
    "                h = int(size[1]/4)\n",
    "                w = int(size[0]/4)\n",
    "                t.append(cv2.calcHist([gray[h*i:h*(i+1)-1, w*j:w*(j+1)-1]], [0], None, [256], [0, 256]))\n",
    "                cv2.normalize(t[i*4+j], t[i*4+j], alpha=0, beta=1, norm_type=cv2.NORM_MINMAX)\n",
    "        hist_base.append(t)\n",
    "\n",
    "        # 畫出直方圖\n",
    "        #print(hist)\n",
    "        #print(hist_base)\n",
    "        #print(prev_hist)\n",
    "        \n",
    "        #hist = hist.flatten()\n",
    "        #plt.bar(range(1,257), hist)\n",
    "        #plt.show()\n",
    "        #plt.bar(range(1,257), hist_base)\n",
    "        #plt.show()\n",
    "        if idx != 0:\n",
    "            for compare_method in range(1):\n",
    "                base_base = []\n",
    "                gap = 15\n",
    "                for i in range(16):\n",
    "                    t = cv2.compareHist(hist_base[idx][i], hist_base[idx - 1][i], compare_method)\n",
    "                    base_base.append(t)\n",
    "                #for i in range(1, 4):\n",
    "                    #if idx - i*gap >= 0:\n",
    "                        #t = cv2.compareHist(hist_base[idx], hist_base[idx - i*gap], compare_method)\n",
    "                        #base_base.append(t) \n",
    "                #for i in range(4):\n",
    "                    #if len(prev_hist[0]) != 0:\n",
    "                        #t = cv2.compareHist(hist_base, prev_hist[0], i)\n",
    "                        #base_base.append(t) \n",
    "                #if base_base < 1:\n",
    "                if len(base_base) > 0:\n",
    "                    #print(idx, ' Method:', compare_method, 'Perfect:',\\\n",
    "                    #'[{:.4f}, {:.4f}, {:.4f}, {:.4f}]'.format(base_base[0], base_base[1], base_base[2], base_base[3]), '/')\n",
    "                    s = ''\n",
    "                    count = 0\n",
    "                    for i in range(len(base_base)):\n",
    "                        if base_base[i] < 0.75:\n",
    "                            count += 1\n",
    "                            s += ' {:.4f}'.format(base_base[i])\n",
    "                        else:\n",
    "                            s += '       '\n",
    "                    if count > 8:\n",
    "                        frame_flag[idx] = 1\n",
    "                    #print('{:4}'.format(idx), ' Method:', compare_method, ' ', s, '/')\n",
    "    else:\n",
    "        print('error')\n",
    "        \n",
    "s = ''\n",
    "for i in range(len(frame_flag)):\n",
    "    if frame_flag[i] == 1:\n",
    "        print(i)"
   ]
  },
  {
   "cell_type": "code",
   "execution_count": null,
   "id": "3beedcb4-0add-42eb-b814-32c68f5feadb",
   "metadata": {},
   "outputs": [],
   "source": []
  }
 ],
 "metadata": {
  "interpreter": {
   "hash": "b3ba2566441a7c06988d0923437866b63cedc61552a5af99d1f4fb67d367b25f"
  },
  "kernelspec": {
   "display_name": "Python 3.9.7 64-bit (conda)",
   "language": "python",
   "name": "python3"
  },
  "language_info": {
   "codemirror_mode": {
    "name": "ipython",
    "version": 3
   },
   "file_extension": ".py",
   "mimetype": "text/x-python",
   "name": "python",
   "nbconvert_exporter": "python",
   "pygments_lexer": "ipython3",
   "version": "3.9.7"
  }
 },
 "nbformat": 4,
 "nbformat_minor": 5
}

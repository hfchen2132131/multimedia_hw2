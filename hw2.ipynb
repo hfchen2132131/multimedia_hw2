{
 "cells": [
  {
   "cell_type": "code",
   "execution_count": 7,
   "id": "e86acdcf-a487-418e-aab8-43014aa13570",
   "metadata": {},
   "outputs": [],
   "source": [
    "import cv2\n",
    "import numpy as np\n",
    "import os"
   ]
  },
  {
   "cell_type": "code",
   "execution_count": 8,
   "id": "c6c57724-4b1f-495f-8818-1108ebe337ac",
   "metadata": {},
   "outputs": [
    {
     "name": "stdout",
     "output_type": "stream",
     "text": [
      "Delete old result folder: output/\n",
      "create folder: output/\n",
      "1780\n"
     ]
    }
   ],
   "source": [
    "video_path = 'data/climate.mp4'\n",
    "output_folder = 'output/'\n",
    "\n",
    "if os.path.isdir(output_folder):\n",
    "    print(\"Delete old result folder: {}\".format(output_folder))\n",
    "    os.system(\"rm -rf {}\".format(output_folder))\n",
    "os.system(\"mkdir {}\".format(output_folder))\n",
    "print(\"create folder: {}\".format(output_folder))\n",
    "\n",
    "vc = cv2.VideoCapture(video_path)\n",
    "fps = vc.get(cv2.CAP_PROP_FPS)\n",
    "frame_count = int(vc.get(cv2.CAP_PROP_FRAME_COUNT))\n",
    "print(frame_count)\n",
    "video = []\n"
   ]
  },
  {
   "cell_type": "code",
   "execution_count": 9,
   "id": "414bbe07",
   "metadata": {},
   "outputs": [
    {
     "name": "stdout",
     "output_type": "stream",
     "text": [
      "4\n"
     ]
    }
   ],
   "source": [
    "t = frame_count\n",
    "digit = 0\n",
    "while t > 0:\n",
    "    t = int(t / 10)\n",
    "    digit += 1\n",
    "print(digit)"
   ]
  },
  {
   "cell_type": "code",
   "execution_count": 10,
   "id": "2c9e9ffc",
   "metadata": {},
   "outputs": [],
   "source": [
    "hist_base = []\n",
    "prev_hist = []\n",
    "frame_flag = np.zeros(frame_count)\n",
    "frame_gap = 1\n",
    "vc.set(1, 0)\n",
    "#frame_count = 1059\n",
    "for idx in range(0, frame_count, 1):\n",
    "    \n",
    "    ret, frame = vc.read()\n",
    "    height, width, layers = frame.shape\n",
    "    size = (width, height)\n",
    "\n",
    "    if frame is not None:\n",
    "  \n",
    "        gray = cv2.cvtColor(frame, cv2.COLOR_BGR2GRAY)\n",
    "       \n",
    "\n",
    "        t = []\n",
    "        for i in range(4):\n",
    "            for j in range(4):\n",
    "                h = int(size[1]/4)\n",
    "                w = int(size[0]/4)\n",
    "                t.append(cv2.calcHist([gray[h*i:h*(i+1)-1, w*j:w*(j+1)-1]], [0], None, [256], [0, 256]))\n",
    "                cv2.normalize(t[i*4+j], t[i*4+j], alpha=0, beta=1, norm_type=cv2.NORM_MINMAX)\n",
    "        \n",
    "        hist_base.append(t)\n",
    "        \n",
    "\n",
    "        \n",
    "        if idx >= frame_gap:\n",
    "            for compare_method in range(1):\n",
    "                base_base = []\n",
    "                gap = 15\n",
    "                for i in range(16):\n",
    "                    t = cv2.compareHist(hist_base[idx][i], hist_base[idx - frame_gap][i], compare_method)\n",
    "                    base_base.append(t)\n",
    "\n",
    "                if len(base_base) > 0:\n",
    "                   \n",
    "                    s = ''\n",
    "                    count = 0\n",
    "                    for i in range(len(base_base)):\n",
    "                        if base_base[i] < 0.7:\n",
    "                            count += 1\n",
    "                            s += ' {:.4f}'.format(base_base[i])\n",
    "                        else:\n",
    "                            s += '       '\n",
    "                    if count > 8:\n",
    "                        frame_flag[idx] = 1\n",
    "                    elif count > 6:\n",
    "                        frame_flag[idx] = 2\n",
    "                    elif count > 4:\n",
    "                        frame_flag[idx] = 3\n",
    "                    #print('{:4}'.format(idx), ' Method:', compare_method, ' ', s, '/')\n",
    "    else:\n",
    "        print('error')"
   ]
  },
  {
   "cell_type": "code",
   "execution_count": 11,
   "id": "f8cebdae-120e-43fc-8b9d-e6404477ae5d",
   "metadata": {},
   "outputs": [
    {
     "name": "stdout",
     "output_type": "stream",
     "text": [
      "92\n",
      "156\n",
      "231\n",
      "313\n",
      "354\n",
      "455~465\n",
      "898~899\n",
      "914\n",
      "1020\n",
      "1236\n",
      "1400\n",
      "1554\n"
     ]
    }
   ],
   "source": [
    "\n",
    "        \n",
    "s = ''\n",
    "frame_is_count = np.zeros(frame_count)\n",
    "for i in range(1, len(frame_flag),frame_gap):\n",
    "    if frame_flag[i] == 1:\n",
    "        frame_is_count[i] = 1        \n",
    "    if frame_flag[i] == 2:\n",
    "        flag = True\n",
    "        for j in range(1, 3):\n",
    "            if i - j < 1:\n",
    "                break\n",
    "            if frame_flag[i - j] > 2 or frame_flag[i - j] == 0:\n",
    "                flag = False\n",
    "                break\n",
    "        if flag:\n",
    "            frame_is_count[i] = 1\n",
    "    if frame_flag[i] == 3:\n",
    "        flag = True\n",
    "        for j in range(1, 6):\n",
    "            if i - j < 1:\n",
    "                break\n",
    "            if frame_flag[i - j] == 0:\n",
    "                flag = False\n",
    "                break\n",
    "        if flag:\n",
    "            frame_is_count[i] = 1\n",
    "for i in range(0, len(frame_flag),frame_gap):\n",
    "    if (i + 1) == len(frame_flag):\n",
    "        flag = 0\n",
    "    else:\n",
    "        flag = frame_is_count[i + 1]\n",
    "    if frame_is_count[i] == 1:\n",
    "        if frame_is_count[i - 1] != 1 and flag == 1:\n",
    "            print(str(i)+'~',end = '')\n",
    "        elif flag != 1:\n",
    "            print(i)"
   ]
  }
 ],
 "metadata": {
  "kernelspec": {
   "display_name": "image_retry",
   "language": "python",
   "name": "python3"
  },
  "language_info": {
   "codemirror_mode": {
    "name": "ipython",
    "version": 3
   },
   "file_extension": ".py",
   "mimetype": "text/x-python",
   "name": "python",
   "nbconvert_exporter": "python",
   "pygments_lexer": "ipython3",
   "version": "3.8.15"
  },
  "vscode": {
   "interpreter": {
    "hash": "be7fbfea78ca739436774b2948657cae6c8743585ad0eb4ea10255d3205789eb"
   }
  }
 },
 "nbformat": 4,
 "nbformat_minor": 5
}

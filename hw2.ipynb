{
 "cells": [
  {
   "cell_type": "code",
   "execution_count": 1,
   "id": "e86acdcf-a487-418e-aab8-43014aa13570",
   "metadata": {},
   "outputs": [],
   "source": [
    "import cv2\n",
    "import numpy as np\n",
    "import matplotlib.pyplot as plt\n",
    "import os"
   ]
  },
  {
   "cell_type": "code",
   "execution_count": 2,
   "id": "c6c57724-4b1f-495f-8818-1108ebe337ac",
   "metadata": {},
   "outputs": [
    {
     "output_type": "stream",
     "name": "stdout",
     "text": [
      "create folder: output/\n1380\n"
     ]
    }
   ],
   "source": [
    "video_path = 'hw2_1/news.mpg'\n",
    "output_folder = 'output/'\n",
    "\n",
    "if os.path.isdir(output_folder):\n",
    "    print(\"Delete old result folder: {}\".format(output_folder))\n",
    "    os.system(\"rm -rf {}\".format(output_folder))\n",
    "os.system(\"mkdir {}\".format(output_folder))\n",
    "print(\"create folder: {}\".format(output_folder))\n",
    "\n",
    "vc = cv2.VideoCapture(video_path)\n",
    "fps = vc.get(cv2.CAP_PROP_FPS)\n",
    "frame_count = int(vc.get(cv2.CAP_PROP_FRAME_COUNT))\n",
    "print(frame_count)\n",
    "video = []\n"
   ]
  },
  {
   "cell_type": "code",
   "execution_count": 8,
   "id": "f8cebdae-120e-43fc-8b9d-e6404477ae5d",
   "metadata": {},
   "outputs": [],
   "source": [
    "#vc.set(1, 1)\n",
    "ret, frame = vc.read()\n",
    "height, width, layers = frame.shape\n",
    "size = (width, height)\n",
    "if frame is not None:\n",
    "    cv2.imshow('window',frame)\n",
    "else:\n",
    "    print('error')"
   ]
  },
  {
   "cell_type": "code",
   "execution_count": null,
   "id": "3beedcb4-0add-42eb-b814-32c68f5feadb",
   "metadata": {},
   "outputs": [],
   "source": []
  }
 ],
 "metadata": {
  "kernelspec": {
   "name": "python397jvsc74a57bd0b3ba2566441a7c06988d0923437866b63cedc61552a5af99d1f4fb67d367b25f",
   "display_name": "Python 3.9.7 64-bit (conda)"
  },
  "language_info": {
   "codemirror_mode": {
    "name": "ipython",
    "version": 3
   },
   "file_extension": ".py",
   "mimetype": "text/x-python",
   "name": "python",
   "nbconvert_exporter": "python",
   "pygments_lexer": "ipython3",
   "version": "3.9.7"
  }
 },
 "nbformat": 4,
 "nbformat_minor": 5
}